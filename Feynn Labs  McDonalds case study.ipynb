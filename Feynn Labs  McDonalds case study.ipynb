{
 "cells": [
  {
   "cell_type": "code",
   "execution_count": null,
   "id": "c1137e37",
   "metadata": {},
   "outputs": [],
   "source": [
    "import pandas as pd\n",
    "import numpy as np\n",
    "import matplotlib.pyplot as plt\n",
    "from sklearn.decomposition import PCA\n",
    "from sklearn.preprocessing import Binarizer, LabelEncoder\n",
    "from sklearn.cluster import KMeans\n",
    "from sklearn.mixture import GaussianMixture\n",
    "import statsmodels.api as sm\n",
    "import statsmodels.formula.api as smf\n",
    "import seaborn as sns\n",
    "import scipy.cluster.hierarchy as sch\n",
    "from sklearn.metrics import silhouette_score, calinski_harabasz_score"
   ]
  },
  {
   "cell_type": "code",
   "execution_count": null,
   "id": "c573d510",
   "metadata": {},
   "outputs": [],
   "source": [
    "# Load the data\n",
    "mcdonalds = pd.read_csv(r\"C:\\Users\\jadha\\Downloads\\McDonalds Case Study-20240819T164052Z-001\\McDonalds Case Study\\mcdonalds.csv\")"
   ]
  },
  {
   "cell_type": "code",
   "execution_count": null,
   "id": "9664fd62",
   "metadata": {},
   "outputs": [],
   "source": [
    "# Display the first 3 rows of the dataframe\n",
    "mcdonalds.head(3)"
   ]
  },
  {
   "cell_type": "code",
   "execution_count": null,
   "id": "e9cd7b20",
   "metadata": {},
   "outputs": [],
   "source": [
    "# Check column names\n",
    "print(mcdonalds.columns.tolist())\n",
    "\n",
    "# Check the dimensions of the dataframe\n",
    "print(mcdonalds.shape)"
   ]
  },
  {
   "cell_type": "code",
   "execution_count": null,
   "id": "2751bc56",
   "metadata": {},
   "outputs": [],
   "source": [
    "# Convert to binary matrix (1 for 'Yes', 0 for 'No')\n",
    "MD_x = mcdonalds.iloc[:, 0:11]\n",
    "MD_x_binary = (MD_x == \"Yes\").astype(int)"
   ]
  },
  {
   "cell_type": "code",
   "execution_count": null,
   "id": "653591fe",
   "metadata": {},
   "outputs": [],
   "source": [
    "# Calculate and round the column means\n",
    "column_means = MD_x_binary.mean().round(2)\n",
    "print(column_means)"
   ]
  },
  {
   "cell_type": "code",
   "execution_count": null,
   "id": "d3f18818",
   "metadata": {},
   "outputs": [],
   "source": [
    "# Perform Principal Component Analysis (PCA)\n",
    "pca = PCA()\n",
    "MD_pca = pca.fit_transform(MD_x_binary)"
   ]
  },
  {
   "cell_type": "code",
   "execution_count": null,
   "id": "178679a2",
   "metadata": {},
   "outputs": [],
   "source": [
    "# Print the summary of PCA\n",
    "explained_variance = pca.explained_variance_ratio_\n",
    "cumulative_explained_variance = explained_variance.cumsum()"
   ]
  },
  {
   "cell_type": "code",
   "execution_count": null,
   "id": "6958267b",
   "metadata": {},
   "outputs": [],
   "source": [
    "print(\"Standard deviation of principal components:\",pca.singular_values_)"
   ]
  },
  {
   "cell_type": "code",
   "execution_count": null,
   "id": "e8db310f",
   "metadata": {},
   "outputs": [],
   "source": [
    "print(\"Proportion of Variance:\",explained_variance)"
   ]
  },
  {
   "cell_type": "code",
   "execution_count": null,
   "id": "39c4bc6d",
   "metadata": {},
   "outputs": [],
   "source": [
    "print(\"Cumulative Proportion:\",cumulative_explained_variance)"
   ]
  },
  {
   "cell_type": "code",
   "execution_count": null,
   "id": "96c58bde",
   "metadata": {},
   "outputs": [],
   "source": [
    "print(\"Factor loadings (first 2 components):\")\n",
    "loadings = pca.components_.T\n",
    "print(pd.DataFrame(loadings, columns=[f'PC{i+1}' for i in range(loadings.shape[1])], index=MD_x_binary.columns).round(1))"
   ]
  },
  {
   "cell_type": "code",
   "execution_count": null,
   "id": "b97cb9b6",
   "metadata": {},
   "outputs": [],
   "source": [
    "# Plot the PCA projections\n",
    "plt.figure(figsize=(8, 6))\n",
    "plt.scatter(MD_pca[:, 0], MD_pca[:, 1], c='grey', edgecolor='k', alpha=0.7)\n",
    "plt.xlabel('Principal Component 1')\n",
    "plt.ylabel('Principal Component 2')\n",
    "plt.title('PCA Projection')\n",
    "plt.grid(True)\n",
    "plt.show()"
   ]
  },
  {
   "cell_type": "code",
   "execution_count": null,
   "id": "c9c357fd",
   "metadata": {},
   "outputs": [],
   "source": [
    "# To simulate projAxes functionality, plotting the PCA components as vectors\n",
    "plt.figure(figsize=(8, 6))\n",
    "plt.quiver(0, 0, pca.components_[0, 0], pca.components_[0, 1], angles='xy', scale_units='xy', scale=1, color='r', label='PC1')\n",
    "plt.quiver(0, 0, pca.components_[1, 0], pca.components_[1, 1], angles='xy', scale_units='xy', scale=1, color='b', label='PC2')\n",
    "plt.xlim(-1, 1)\n",
    "plt.ylim(-1, 1)\n",
    "plt.xlabel('Principal Component 1')\n",
    "plt.ylabel('Principal Component 2')\n",
    "plt.title('PCA Projection with Component Axes')\n",
    "plt.axhline(0, color='grey', linestyle='--')\n",
    "plt.axvline(0, color='grey', linestyle='--')\n",
    "plt.legend()\n",
    "plt.grid(True)\n",
    "plt.show()"
   ]
  },
  {
   "cell_type": "code",
   "execution_count": null,
   "id": "dcef4d87",
   "metadata": {},
   "outputs": [],
   "source": [
    "# Define range of clusters\n",
    "cluster_range = range(2, 9)  # 2 to 8 clusters\n",
    "inertia = []\n",
    "\n",
    "# Perform k-means clustering for different numbers of clusters\n",
    "for n_clusters in cluster_range:\n",
    "    kmeans = KMeans(n_clusters=n_clusters, random_state=1234)\n",
    "    kmeans.fit(MD_x_binary)\n",
    "    inertia.append(kmeans.inertia_)"
   ]
  },
  {
   "cell_type": "code",
   "execution_count": null,
   "id": "66881878",
   "metadata": {},
   "outputs": [],
   "source": [
    "# Perform k-means clustering with a specified number of clusters\n",
    "n_clusters = 3  # Choose a number of clusters, e.g., 3\n",
    "kmeans = KMeans(n_clusters=n_clusters, random_state=1234)\n",
    "kmeans.fit(MD_x_binary)"
   ]
  },
  {
   "cell_type": "code",
   "execution_count": null,
   "id": "6cdec272",
   "metadata": {},
   "outputs": [],
   "source": [
    "# Relabel clusters to start from 0\n",
    "def relabel_clusters(labels):\n",
    "    le = LabelEncoder()\n",
    "    return le.fit_transform(labels)"
   ]
  },
  {
   "cell_type": "code",
   "execution_count": null,
   "id": "5684b809",
   "metadata": {},
   "outputs": [],
   "source": [
    "# Apply relabeling\n",
    "relabelled_labels = relabel_clusters(kmeans.labels_)\n",
    "# Add the cluster labels to the original dataframe\n",
    "mcdonalds['Cluster'] = relabelled_labels\n",
    "# Display the first few rows of the dataframe with cluster labels\n",
    "print(mcdonalds.head())"
   ]
  },
  {
   "cell_type": "code",
   "execution_count": null,
   "id": "79f3c1ad",
   "metadata": {},
   "outputs": [],
   "source": [
    "# Plot the inertia for different numbers of clusters\n",
    "plt.figure(figsize=(8, 6))\n",
    "plt.plot(cluster_range, inertia, marker='o', linestyle='-', color='b')\n",
    "plt.xlabel('Number of Clusters')\n",
    "plt.ylabel('Inertia (Within-cluster Sum of Squares)')\n",
    "plt.title('K-Means Clustering Inertia for Different Numbers of Clusters')\n",
    "plt.grid(True)\n",
    "plt.xticks(cluster_range)\n",
    "plt.show()"
   ]
  },
  {
   "cell_type": "code",
   "execution_count": null,
   "id": "87ccec06",
   "metadata": {},
   "outputs": [],
   "source": [
    "# Function to perform Gaussian Mixture Model clustering and return results\n",
    "def fit_gmm_models(X, cluster_range, nrep):\n",
    "    models = {}\n",
    "    for n_clusters in cluster_range:\n",
    "        models[n_clusters] = []\n",
    "        for _ in range(nrep):\n",
    "            gmm = GaussianMixture(n_components=n_clusters, random_state=1234)\n",
    "            gmm.fit(X)\n",
    "            models[n_clusters].append(gmm)\n",
    "    return models"
   ]
  },
  {
   "cell_type": "code",
   "execution_count": null,
   "id": "a35f6a44",
   "metadata": {},
   "outputs": [],
   "source": [
    "# Perform clustering with different numbers of clusters (2 to 8)\n",
    "cluster_range = range(2, 9)\n",
    "nrep = 10\n",
    "gmm_models = fit_gmm_models(MD_x_binary, cluster_range, nrep)\n",
    "\n",
    "# Example to display one of the GMM models\n",
    "n_clusters_example = 4\n",
    "example_gmm = gmm_models[n_clusters_example][0]\n",
    "\n",
    "# Print the model parameters\n",
    "print(f\"Gaussian Mixture Model with {n_clusters_example} clusters:\")\n",
    "print(\"Means:\")\n",
    "print(example_gmm.means_)\n",
    "print(\"Covariances:\")\n",
    "print(example_gmm.covariances_)\n",
    "print(\"Weights:\")\n",
    "print(example_gmm.weights_)"
   ]
  },
  {
   "cell_type": "code",
   "execution_count": null,
   "id": "d3398bc8",
   "metadata": {},
   "outputs": [],
   "source": [
    "# Predict clusters for the original data with the example model\n",
    "labels = example_gmm.predict(MD_x_binary)"
   ]
  },
  {
   "cell_type": "code",
   "execution_count": null,
   "id": "966ccdf4",
   "metadata": {},
   "outputs": [],
   "source": [
    "# Relabel clusters to start from 0\n",
    "def relabel_clusters(labels):\n",
    "    le = LabelEncoder()\n",
    "    return le.fit_transform(labels)\n",
    "\n",
    "# Apply relabeling\n",
    "relabelled_labels = relabel_clusters(labels)\n",
    "\n",
    "# Add the cluster labels to the original dataframe\n",
    "mcdonalds['Cluster'] = relabelled_labels\n",
    "\n",
    "# Display the first few rows of the dataframe with cluster labels\n",
    "print(mcdonalds.head())"
   ]
  },
  {
   "cell_type": "code",
   "execution_count": null,
   "id": "a83bc7a7",
   "metadata": {},
   "outputs": [],
   "source": [
    "# Plot the cluster means for a specific number of clusters\n",
    "plt.figure(figsize=(8, 6))\n",
    "for i in range(n_clusters_example):\n",
    "    plt.scatter(MD_x_binary.iloc[:, 0], MD_x_binary.iloc[:, 1], c=(relabelled_labels == i).astype(int), label=f'Cluster {i}')\n",
    "plt.xlabel('Feature 1')\n",
    "plt.ylabel('Feature 2')\n",
    "plt.title(f'Cluster Plot for {n_clusters_example} Clusters')\n",
    "plt.legend()\n",
    "plt.grid(True)\n",
    "plt.show()"
   ]
  },
  {
   "cell_type": "code",
   "execution_count": null,
   "id": "701606b9",
   "metadata": {},
   "outputs": [],
   "source": [
    "# Profiling Segments\n",
    "numeric_data = mcdonalds.select_dtypes(include=[np.number])  # Ensure we only use numeric data\n",
    "segment_profiles = numeric_data.groupby('Cluster').mean()\n",
    "print(\"Segment Profiles:\")\n",
    "print(segment_profiles)\n",
    "\n",
    "# Describing Segments\n",
    "segment_descriptions = numeric_data.groupby('Cluster').describe()\n",
    "print(\"Segment Descriptions:\")\n",
    "print(segment_descriptions)\n"
   ]
  },
  {
   "cell_type": "code",
   "execution_count": null,
   "id": "a7c492fe",
   "metadata": {},
   "outputs": [],
   "source": [
    "# Ensure all columns in MD_x_binary are numeric\n",
    "print(MD_x_binary.dtypes)\n",
    "\n",
    "# Selecting Target Variable\n",
    "target_variable = 'Like.n'\n",
    "print(f\"Target Variable: {target_variable}\")\n",
    "\n",
    "# Customizing Market Mix\n",
    "# Ensure only numeric columns are used for market mix customization\n",
    "numeric_columns = mcdonalds.select_dtypes(include=[np.number]).columns\n",
    "market_mix = mcdonalds[numeric_columns + ['Cluster']].groupby('Cluster').mean()\n",
    "print(\"Market Mix Customization:\")\n",
    "print(market_mix)"
   ]
  },
  {
   "cell_type": "code",
   "execution_count": null,
   "id": "f5dc0200",
   "metadata": {},
   "outputs": [],
   "source": [
    "# Fit regression model for each cluster\n",
    "regression_results = {}\n",
    "formula = 'Like.n ~ ' + ' + '.join(MD_x.columns)\n",
    "for cluster in np.unique(mcdonalds['Cluster']):\n",
    "    cluster_data = mcdonalds[mcdonalds['Cluster'] == cluster]\n",
    "    model = smf.ols(formula=formula, data=cluster_data).fit()\n",
    "    regression_results[cluster] = model.summary()\n"
   ]
  },
  {
   "cell_type": "code",
   "execution_count": null,
   "id": "9a951f7f",
   "metadata": {},
   "outputs": [],
   "source": [
    "# Display the regression results for each cluster\n",
    "for cluster, result in regression_results.items():\n",
    "    print(f\"Cluster {cluster} Regression Summary:\")\n",
    "    print(result)\n"
   ]
  },
  {
   "cell_type": "code",
   "execution_count": null,
   "id": "d0c72953",
   "metadata": {},
   "outputs": [],
   "source": [
    "# Evaluation and Monitoring\n",
    "# Calculate silhouette score for clustering\n",
    "silhouette_avg = silhouette_score(MD_x_binary, relabelled_labels)\n",
    "print(f\"Silhouette Score: {silhouette_avg}\")\n",
    "\n",
    "# Calculate Calinski-Harabasz score for clustering\n",
    "calinski_harabasz_avg = calinski_harabasz_score(MD_x_binary, relabelled_labels)\n",
    "print(f\"Calinski-Harabasz Score: {calinski_harabasz_avg}\")\n",
    "\n",
    "# Hierarchical clustering and ordering\n",
    "order = sch.linkage(MD_x_binary.T, method='ward')\n",
    "dendrogram = sch.dendrogram(order)\n",
    "plt.title('Hierarchical Clustering Dendrogram')\n",
    "plt.xlabel('Features')\n",
    "plt.ylabel('Euclidean Distance')\n",
    "plt.show()"
   ]
  },
  {
   "cell_type": "code",
   "execution_count": null,
   "id": "ed7439f6",
   "metadata": {},
   "outputs": [],
   "source": []
  }
 ],
 "metadata": {
  "kernelspec": {
   "display_name": "Python 3 (ipykernel)",
   "language": "python",
   "name": "python3"
  },
  "language_info": {
   "codemirror_mode": {
    "name": "ipython",
    "version": 3
   },
   "file_extension": ".py",
   "mimetype": "text/x-python",
   "name": "python",
   "nbconvert_exporter": "python",
   "pygments_lexer": "ipython3",
   "version": "3.11.5"
  }
 },
 "nbformat": 4,
 "nbformat_minor": 5
}
